{
  "nbformat": 4,
  "nbformat_minor": 0,
  "metadata": {
    "colab": {
      "provenance": [],
      "gpuType": "T4",
      "authorship_tag": "ABX9TyOWGlmGv1t+601YV7FvWsJb",
      "include_colab_link": true
    },
    "kernelspec": {
      "name": "python3",
      "display_name": "Python 3"
    },
    "language_info": {
      "name": "python"
    },
    "accelerator": "GPU"
  },
  "cells": [
    {
      "cell_type": "markdown",
      "metadata": {
        "id": "view-in-github",
        "colab_type": "text"
      },
      "source": [
        "<a href=\"https://colab.research.google.com/github/DarthCoder501/GAAP/blob/main/Baseline_Impressions_Model.ipynb\" target=\"_parent\"><img src=\"https://colab.research.google.com/assets/colab-badge.svg\" alt=\"Open In Colab\"/></a>"
      ]
    },
    {
      "cell_type": "code",
      "source": [
        "!pip install tensorflow transformers scikit-learn"
      ],
      "metadata": {
        "colab": {
          "base_uri": "https://localhost:8080/"
        },
        "id": "26YkkFKgX0lL",
        "outputId": "d8f6f65d-0cbd-406f-c61b-8631ac9e054d"
      },
      "execution_count": null,
      "outputs": [
        {
          "output_type": "stream",
          "name": "stdout",
          "text": [
            "Requirement already satisfied: tensorflow in /usr/local/lib/python3.11/dist-packages (2.18.0)\n",
            "Requirement already satisfied: transformers in /usr/local/lib/python3.11/dist-packages (4.53.0)\n",
            "Requirement already satisfied: scikit-learn in /usr/local/lib/python3.11/dist-packages (1.6.1)\n",
            "Requirement already satisfied: absl-py>=1.0.0 in /usr/local/lib/python3.11/dist-packages (from tensorflow) (1.4.0)\n",
            "Requirement already satisfied: astunparse>=1.6.0 in /usr/local/lib/python3.11/dist-packages (from tensorflow) (1.6.3)\n",
            "Requirement already satisfied: flatbuffers>=24.3.25 in /usr/local/lib/python3.11/dist-packages (from tensorflow) (25.2.10)\n",
            "Requirement already satisfied: gast!=0.5.0,!=0.5.1,!=0.5.2,>=0.2.1 in /usr/local/lib/python3.11/dist-packages (from tensorflow) (0.6.0)\n",
            "Requirement already satisfied: google-pasta>=0.1.1 in /usr/local/lib/python3.11/dist-packages (from tensorflow) (0.2.0)\n",
            "Requirement already satisfied: libclang>=13.0.0 in /usr/local/lib/python3.11/dist-packages (from tensorflow) (18.1.1)\n",
            "Requirement already satisfied: opt-einsum>=2.3.2 in /usr/local/lib/python3.11/dist-packages (from tensorflow) (3.4.0)\n",
            "Requirement already satisfied: packaging in /usr/local/lib/python3.11/dist-packages (from tensorflow) (24.2)\n",
            "Requirement already satisfied: protobuf!=4.21.0,!=4.21.1,!=4.21.2,!=4.21.3,!=4.21.4,!=4.21.5,<6.0.0dev,>=3.20.3 in /usr/local/lib/python3.11/dist-packages (from tensorflow) (5.29.5)\n",
            "Requirement already satisfied: requests<3,>=2.21.0 in /usr/local/lib/python3.11/dist-packages (from tensorflow) (2.32.3)\n",
            "Requirement already satisfied: setuptools in /usr/local/lib/python3.11/dist-packages (from tensorflow) (75.2.0)\n",
            "Requirement already satisfied: six>=1.12.0 in /usr/local/lib/python3.11/dist-packages (from tensorflow) (1.17.0)\n",
            "Requirement already satisfied: termcolor>=1.1.0 in /usr/local/lib/python3.11/dist-packages (from tensorflow) (3.1.0)\n",
            "Requirement already satisfied: typing-extensions>=3.6.6 in /usr/local/lib/python3.11/dist-packages (from tensorflow) (4.14.0)\n",
            "Requirement already satisfied: wrapt>=1.11.0 in /usr/local/lib/python3.11/dist-packages (from tensorflow) (1.17.2)\n",
            "Requirement already satisfied: grpcio<2.0,>=1.24.3 in /usr/local/lib/python3.11/dist-packages (from tensorflow) (1.73.1)\n",
            "Requirement already satisfied: tensorboard<2.19,>=2.18 in /usr/local/lib/python3.11/dist-packages (from tensorflow) (2.18.0)\n",
            "Requirement already satisfied: keras>=3.5.0 in /usr/local/lib/python3.11/dist-packages (from tensorflow) (3.8.0)\n",
            "Requirement already satisfied: numpy<2.1.0,>=1.26.0 in /usr/local/lib/python3.11/dist-packages (from tensorflow) (2.0.2)\n",
            "Requirement already satisfied: h5py>=3.11.0 in /usr/local/lib/python3.11/dist-packages (from tensorflow) (3.14.0)\n",
            "Requirement already satisfied: ml-dtypes<0.5.0,>=0.4.0 in /usr/local/lib/python3.11/dist-packages (from tensorflow) (0.4.1)\n",
            "Requirement already satisfied: tensorflow-io-gcs-filesystem>=0.23.1 in /usr/local/lib/python3.11/dist-packages (from tensorflow) (0.37.1)\n",
            "Requirement already satisfied: filelock in /usr/local/lib/python3.11/dist-packages (from transformers) (3.18.0)\n",
            "Requirement already satisfied: huggingface-hub<1.0,>=0.30.0 in /usr/local/lib/python3.11/dist-packages (from transformers) (0.33.1)\n",
            "Requirement already satisfied: pyyaml>=5.1 in /usr/local/lib/python3.11/dist-packages (from transformers) (6.0.2)\n",
            "Requirement already satisfied: regex!=2019.12.17 in /usr/local/lib/python3.11/dist-packages (from transformers) (2024.11.6)\n",
            "Requirement already satisfied: tokenizers<0.22,>=0.21 in /usr/local/lib/python3.11/dist-packages (from transformers) (0.21.2)\n",
            "Requirement already satisfied: safetensors>=0.4.3 in /usr/local/lib/python3.11/dist-packages (from transformers) (0.5.3)\n",
            "Requirement already satisfied: tqdm>=4.27 in /usr/local/lib/python3.11/dist-packages (from transformers) (4.67.1)\n",
            "Requirement already satisfied: scipy>=1.6.0 in /usr/local/lib/python3.11/dist-packages (from scikit-learn) (1.15.3)\n",
            "Requirement already satisfied: joblib>=1.2.0 in /usr/local/lib/python3.11/dist-packages (from scikit-learn) (1.5.1)\n",
            "Requirement already satisfied: threadpoolctl>=3.1.0 in /usr/local/lib/python3.11/dist-packages (from scikit-learn) (3.6.0)\n",
            "Requirement already satisfied: wheel<1.0,>=0.23.0 in /usr/local/lib/python3.11/dist-packages (from astunparse>=1.6.0->tensorflow) (0.45.1)\n",
            "Requirement already satisfied: fsspec>=2023.5.0 in /usr/local/lib/python3.11/dist-packages (from huggingface-hub<1.0,>=0.30.0->transformers) (2025.3.2)\n",
            "Requirement already satisfied: hf-xet<2.0.0,>=1.1.2 in /usr/local/lib/python3.11/dist-packages (from huggingface-hub<1.0,>=0.30.0->transformers) (1.1.5)\n",
            "Requirement already satisfied: rich in /usr/local/lib/python3.11/dist-packages (from keras>=3.5.0->tensorflow) (13.9.4)\n",
            "Requirement already satisfied: namex in /usr/local/lib/python3.11/dist-packages (from keras>=3.5.0->tensorflow) (0.1.0)\n",
            "Requirement already satisfied: optree in /usr/local/lib/python3.11/dist-packages (from keras>=3.5.0->tensorflow) (0.16.0)\n",
            "Requirement already satisfied: charset-normalizer<4,>=2 in /usr/local/lib/python3.11/dist-packages (from requests<3,>=2.21.0->tensorflow) (3.4.2)\n",
            "Requirement already satisfied: idna<4,>=2.5 in /usr/local/lib/python3.11/dist-packages (from requests<3,>=2.21.0->tensorflow) (3.10)\n",
            "Requirement already satisfied: urllib3<3,>=1.21.1 in /usr/local/lib/python3.11/dist-packages (from requests<3,>=2.21.0->tensorflow) (2.4.0)\n",
            "Requirement already satisfied: certifi>=2017.4.17 in /usr/local/lib/python3.11/dist-packages (from requests<3,>=2.21.0->tensorflow) (2025.6.15)\n",
            "Requirement already satisfied: markdown>=2.6.8 in /usr/local/lib/python3.11/dist-packages (from tensorboard<2.19,>=2.18->tensorflow) (3.8.2)\n",
            "Requirement already satisfied: tensorboard-data-server<0.8.0,>=0.7.0 in /usr/local/lib/python3.11/dist-packages (from tensorboard<2.19,>=2.18->tensorflow) (0.7.2)\n",
            "Requirement already satisfied: werkzeug>=1.0.1 in /usr/local/lib/python3.11/dist-packages (from tensorboard<2.19,>=2.18->tensorflow) (3.1.3)\n",
            "Requirement already satisfied: MarkupSafe>=2.1.1 in /usr/local/lib/python3.11/dist-packages (from werkzeug>=1.0.1->tensorboard<2.19,>=2.18->tensorflow) (3.0.2)\n",
            "Requirement already satisfied: markdown-it-py>=2.2.0 in /usr/local/lib/python3.11/dist-packages (from rich->keras>=3.5.0->tensorflow) (3.0.0)\n",
            "Requirement already satisfied: pygments<3.0.0,>=2.13.0 in /usr/local/lib/python3.11/dist-packages (from rich->keras>=3.5.0->tensorflow) (2.19.2)\n",
            "Requirement already satisfied: mdurl~=0.1 in /usr/local/lib/python3.11/dist-packages (from markdown-it-py>=2.2.0->rich->keras>=3.5.0->tensorflow) (0.1.2)\n"
          ]
        }
      ]
    },
    {
      "cell_type": "code",
      "source": [
        "import pandas as pd\n",
        "import numpy as np\n",
        "import tensorflow as tf\n",
        "from transformers import AutoTokenizer, TFAutoModel\n",
        "from tensorflow.keras.models import Model\n",
        "from tensorflow.keras.layers import Dense, Input, Dropout\n",
        "from sklearn.metrics import roc_auc_score, classification_report, multilabel_confusion_matrix\n",
        "import warnings\n",
        "warnings.filterwarnings('ignore')"
      ],
      "metadata": {
        "colab": {
          "base_uri": "https://localhost:8080/"
        },
        "id": "pPbRRS-_XrRo",
        "outputId": "7f00fd97-84fe-4f1e-ad86-fd6d6df4dc18"
      },
      "execution_count": null,
      "outputs": [
        {
          "output_type": "stream",
          "name": "stdout",
          "text": [
            "Preprocessing text data...\n",
            "Train samples after cleaning: 4460\n",
            "Test samples after cleaning: 1116\n",
            "Loading Bio_ClinicalBERT...\n"
          ]
        },
        {
          "output_type": "stream",
          "name": "stderr",
          "text": [
            "Some layers from the model checkpoint at emilyalsentzer/Bio_ClinicalBERT were not used when initializing TFBertModel: ['mlm___cls', 'nsp___cls']\n",
            "- This IS expected if you are initializing TFBertModel from the checkpoint of a model trained on another task or with another architecture (e.g. initializing a BertForSequenceClassification model from a BertForPreTraining model).\n",
            "- This IS NOT expected if you are initializing TFBertModel from the checkpoint of a model that you expect to be exactly identical (initializing a BertForSequenceClassification model from a BertForSequenceClassification model).\n",
            "All the layers of TFBertModel were initialized from the model checkpoint at emilyalsentzer/Bio_ClinicalBERT.\n",
            "If your task is similar to the task the model of the checkpoint was trained on, you can already use TFBertModel for predictions without further training.\n",
            "TensorFlow and JAX classes are deprecated and will be removed in Transformers v5. We recommend migrating to PyTorch classes or pinning your version of Transformers.\n"
          ]
        },
        {
          "output_type": "stream",
          "name": "stdout",
          "text": [
            "Tokenizing text...\n"
          ]
        }
      ]
    },
    {
      "cell_type": "code",
      "source": [
        "# Set random seeds for reproducibility\n",
        "RANDOM_SEED = 42\n",
        "\n",
        "# Python random seed\n",
        "random.seed(RANDOM_SEED)\n",
        "\n",
        "# NumPy random seed\n",
        "np.random.seed(RANDOM_SEED)\n",
        "\n",
        "# TensorFlow random seed\n",
        "tf.random.set_seed(RANDOM_SEED)"
      ],
      "metadata": {
        "id": "ebNs3bayoBz9"
      },
      "execution_count": null,
      "outputs": []
    },
    {
      "cell_type": "code",
      "source": [
        "# Load data\n",
        "train = pd.read_csv(\"/content/Train Chronological (1).csv\", parse_dates=[\"note_DATETIME\"])\n",
        "test = pd.read_csv(\"/content/Impressions Chronological Data (1).csv\", parse_dates=[\"note_DATETIME\"])"
      ],
      "metadata": {
        "id": "n8KQ2Taha48f"
      },
      "execution_count": null,
      "outputs": []
    },
    {
      "cell_type": "code",
      "source": [
        "# Abbreviations dictionary\n",
        "abbreviations = {\n",
        "    \"MM\": \"millimeter\",\n",
        "    \"CT\": \"computed tomography\",\n",
        "    \"HCW\": \"healthcare Worker\",\n",
        "    \"BAC\": \"bronchioloalveolar carcinoma\",\n",
        "    \"ED\": \"emergency department\",\n",
        "    \"PT\": \"pacific time\",\n",
        "    \"MRI\": \"magnetic resonance imaging\",\n",
        "    \"RN\": \"registered nurse\",\n",
        "    \"PACS\": \"picture archiving and communication system\",\n",
        "    \"PET\": \"positron emission tomography\",\n",
        "    \"SVC\": \"superior vena cava\",\n",
        "    \"CM\": \"centimeter\",\n",
        "    \"RLL\": \"right lower lobe\",\n",
        "    \"RUL\": \"right upper lobe\",\n",
        "    \"LAD\": \"left anterior descending artery\",\n",
        "    \"TB\": \"tuberculosis\",\n",
        "    \"IPMT\": \"intraductal papillary mucinous tumor\",\n",
        "    \"IVC\": \"inferior vena cava\",\n",
        "    \"PE\": \"pulmonary embolism\",\n",
        "    \"PEs\": \"pulmonary embolisms\",\n",
        "    \"FDG\": \"fluorodeoxyglucose\",\n",
        "    \"SFV\": \"superficial femoral vein\",\n",
        "    \"DVT\": \"deep vein thrombosis\",\n",
        "    \"SMA\": \"superior mesenteric artery\",\n",
        "    \"NSIP\": \"nonspecific interstitial pneumonia\",\n",
        "    \"SITU\": \"in its original place\",\n",
        "    \"HR\": \"hour\",\n",
        "    \"4A\": \"the superior part of the left medial segment of the liver\",\n",
        "    \"PST\": \"pacific standard time\",\n",
        "    \"ID\": \"identification\",\n",
        "    \"CTA\": \"computed tomography angiography\",\n",
        "    \"NG\": \"nasogastric\",\n",
        "    \"IPMN\": \"intraductal papillary mucinous neoplasm\",\n",
        "    \"UIP\": \"usual interstitial pneumonia\",\n",
        "    \"ER\": \"emergency room\",\n",
        "    \"ARDS\": \"acute respiratory distress syndrome\",\n",
        "    \"MRN\": \"medical record number\",\n",
        "    \"RV\": \"right ventricular\",\n",
        "    \"CHF\": \"congestive heart failure\",\n",
        "    \"PEG\": \"percutaneous endoscopic gastrostomy\",\n",
        "    \"PICC\": \"peripherally inserted central catheter\",\n",
        "    \"GI\": \"gastrointestinal\",\n",
        "    \"ASD\": \"atrial septal defect\",\n",
        "    \"MR\": \"mitral regurgitation\",\n",
        "    \"EST\": \"eastern standard time\",\n",
        "    \"CTs\": \"computed tomographies\",\n",
        "    \"3D\": \"three dimensional\",\n",
        "    \"MAC\": \"mycobacterium avium complex\",\n",
        "    \"MICU\": \"medical intensive care unit\",\n",
        "    \"MAI\": \"mycobacterium avium-intracellulare\",\n",
        "    \"PJP\": \"pneumocystis jirovecii pneumonia\",\n",
        "    \"LIMA\": \"left internal mammary artery\",\n",
        "    \"LV\": \"left ventricle\",\n",
        "    \"EGD\": \"esophagogastroduodenoscopy\",\n",
        "    \"PAU\": \"penetrating atherosclerotic ulcer\",\n",
        "    \"VP\": \"ventriculoperitoneal\",\n",
        "    \"CSF\": \"cerebrospinal fluid\",\n",
        "    \"HCC\": \"hepatocellular carcinoma\",\n",
        "    \"SABR\": \"stereotactic ablative radiotherapy\",\n",
        "    \"ILD\": \"interstitial lung disease\",\n",
        "    \"IVP\": \"intravenous pyelogram\",\n",
        "    \"MRCP\": \"magnetic resonance cholangiopancreatography\",\n",
        "    \"IV\": \"intravenous\",\n",
        "    \"RCA\": \"right coronary artery\",\n",
        "    \"COVID\": \"coronavirus disease\",\n",
        "    \"2D\": \"two dimensional\",\n",
        "    \"SMV\": \"superior mesenteric vein\",\n",
        "    \"FNA\": \"fine needle aspiration\",\n",
        "    \"BAL\": \"bronchoalveolar Lavage\",\n",
        "    \"AVMs\": \"arteriovenous malformations\",\n",
        "    \"AVM\": \"arteriovenous malformation\",\n",
        "    \"MRA\": \"magnetic resonance angiography\",\n",
        "    \"AP\": \"anteroposterior\",\n",
        "    \"MRIs\": \"magnetic resonance imaging\",\n",
        "    \"COVID19\": \"coronavirus disease 2019\",\n",
        "    \"BHD\": \"birt-hogg-dube\",\n",
        "    \"CTEPH\": \"chronic thromboembolic pulmonary hypertension\",\n",
        "    \"RML\": \"right middle lobe\",\n",
        "    \"NGT\": \"nasogastric tube\",\n",
        "    \"GE\": \"gastroesophageal\",\n",
        "    \"MDS\": \"myelodysplastic syndrome\",\n",
        "    \"UVJ\": \"ureterovesical junction\",\n",
        "    \"ERCP\": \"endoscopic retrograde cholangiopancreatography\",\n",
        "    \"OP\": \"organizing pneumonia\",\n",
        "    \"IJ\": \"internal jugular\",\n",
        "    \"VSD\": \"ventricular septal defect\",\n",
        "    \"EMR\": \"electronic medical record\",\n",
        "    \"TE\": \"tracheoesophageal\",\n",
        "    \"AV\": \"arteriovenous\",\n",
        "    \"PAN\": \"polyarteritis nodosa\",\n",
        "    \"III\": \"third\",\n",
        "    \"SLE\": \"systemic lupus erythematosus\",\n",
        "    \"CTS\": \"computed tomographies\",\n",
        "    \"IPF\": \"idiopathic pulmonary fibrosis\",\n",
        "    \"3MM\": \"three millimeters\",\n",
        "    \"4MM\": \"four millimeters\",\n",
        "    \"PAPVR\": \"partial anomalous pulmonary venous return\",\n",
        "    \"ANCA\": \"antineutrophil cytoplasmic antibodies\",\n",
        "    \"VQ\": \"ventilation-perfusion\",\n",
        "    \"PA\": \"pulmonary artery\",\n",
        "    \"PCP\": \"pneumocystis pneumonia\",\n",
        "    \"CMV\": \"cytomegalovirus\",\n",
        "    \"RVH\": \"right ventricular hypertrophy\",\n",
        "    \"TSH\": \"thyroid stimulating hormone\",\n",
        "    \"CBD\": \"common bile duct\",\n",
        "    \"BNP\": \"brain natriuretic peptide\",\n",
        "    \"16MM\": \"sixteen millimeters\",\n",
        "    \"NP\": \"nurse practitioner\",\n",
        "    \"CVC\": \"central venous catheter\",\n",
        "    \"SVG\": \"saphenous vein graft\",\n",
        "    \"PDA\": \"posterior descending artery\",\n",
        "    \"VIII\": \"eighth\",\n",
        "    \"ICU\": \"intensive care unit\",\n",
        "    \"CPR\": \"cardiopulmonary resuscitation\",\n",
        "    \"DAH\": \"diffuse alveolar hemorrhage\",\n",
        "    \"PAP\": \"pulmonary alveolar proteinosis\",\n",
        "    \"II\": \"second\",\n",
        "    \"ENT\": \"ear, nose, and throat\",\n",
        "    \"FNH\": \"focal nodular hyperplasia\",\n",
        "    \"LLL\": \"left lower lobe\",\n",
        "    \"CTPA\": \"computed tomography pulmonary angiography\",\n",
        "    \"LA\": \"left atrium\",\n",
        "    \"ABPA\": \"allergic bronchopulmonary aspergillosis\",\n",
        "    \"IMA\": \"inferior mesenteric artery\",\n",
        "    \"RT\": \"right\",\n",
        "    \"CCU\": \"coronary care unit\",\n",
        "    \"ALS\": \"amyotrophic lateral sclerosis\",\n",
        "    \"LT\": \"left\",\n",
        "    \"RCC\": \"renal cell carcinoma\",\n",
        "    \"AML\": \"angiomyolipoma\",\n",
        "    \"HCG\": \"human chorionic gonadotropin\",\n",
        "    \"IJV\": \"internal jugular vein\",\n",
        "    \"LE\": \"lower extremity\",\n",
        "    \"ASAP\": \"as soon as possible\",\n",
        "    \"1L\": \"one liter\",\n",
        "    \"IHSS\": \"Idiopathic hypertrophic subaortic stenosis\",\n",
        "    \"13MM\": \"thirteen millimeters\",\n",
        "    \"PFO\": \"patent foramen ovale\",\n",
        "    \"CCA\": \"common carotid artery\",\n",
        "    \"SCA\": \"subclavian artery\",\n",
        "    \"ANS\": \"anteromedial basal subsegmental artery\",\n",
        "    \"IgG4\": \"Immunoglobulin G4\",\n",
        "    \"ICD\": \"implantable cardioverter-defibrillator\",\n",
        "    \"T9\": \"ninth thoracic vertebrae\",\n",
        "    \"CVICU\": \"cardiovascular intensive care unit\",\n",
        "    \"T12\": \"twelfth thoracic vertebra\",\n",
        "    \"L5\": \"fifth lumbar vertebra\",\n",
        "    \"L1\": \"first lumbar vertebra\",\n",
        "    \"L3\": \"third lumbar vertebra\",\n",
        "    \"T4\": \"fourth thoracic vertebrae\",\n",
        "    \"T5\": \"fifth thoracic vertebra\",\n",
        "    \"T7\": \"seventh thoracic vertebra\",\n",
        "    \"T8\": \"eighth thoracic vertebra\",\n",
        "    \"T10\": \"tenth thoracic vertebra\",\n",
        "    \"L2\": \"second lumbar vertebra\",\n",
        "    \"8MM\": \"eight millimeters\",\n",
        "    \"T2\": \"second thoracic vertebra\",\n",
        "    \"IUD\": \"intrauterine device\",\n",
        "    \"T3\": \"third thoracic vertebrae\",\n",
        "    \"T6\": \"sixth thoracic vertebrae\",\n",
        "    \"C7\": \"seventh cervical vertebra\",\n",
        "    \"S4\": \"fourth heart sound\",\n",
        "    \"T11\": \"eleventh thoracic vertebra\",\n",
        "    \"L4\": \"fourth lumbar vertebra\",\n",
        "    \"T1\": \"first thoracic vertebra\",\n",
        "    \"S1\": \"first heart sound\",\n",
        "    \"PAH\": \"pulmonary arterial hypertension\",\n",
        "    \"S9\": \"ninth heart sound\",\n",
        "    \"IMH\": \"intramural hematoma\",\n",
        "    \"VATS\": \"video-assisted thoracoscopic surgery\",\n",
        "    \"S2\": \"second heart sound\",\n",
        "    \"LVAD\": \"left ventricular assist device\",\n",
        "}"
      ],
      "metadata": {
        "id": "Db8-JoSDa1KI"
      },
      "execution_count": null,
      "outputs": []
    },
    {
      "cell_type": "code",
      "source": [
        "# Data preprocessing\n",
        "print(\"Preprocessing text data...\")\n",
        "train[\"impressions_clean\"] = train[\"impressions\"].replace(abbreviations, regex=True)\n",
        "test[\"impressions_clean\"] = test[\"impressions\"].replace(abbreviations, regex=True)"
      ],
      "metadata": {
        "id": "0eLb1wVUa1Hx"
      },
      "execution_count": null,
      "outputs": []
    },
    {
      "cell_type": "code",
      "source": [
        "# Clean text\n",
        "train[\"impressions_clean\"] = train[\"impressions_clean\"].str.lower().str.replace(r'[^a-z0-9\\s]', '', regex=True)\n",
        "test[\"impressions_clean\"] = test[\"impressions_clean\"].str.lower().str.replace(r'[^a-z0-9\\s]', '', regex=True)"
      ],
      "metadata": {
        "id": "VcLTbSY1a1Fa"
      },
      "execution_count": null,
      "outputs": []
    },
    {
      "cell_type": "code",
      "source": [
        "# Handle missing values\n",
        "train = train.dropna(subset=[\"impressions_clean\"])\n",
        "test = test.dropna(subset=[\"impressions_clean\"])"
      ],
      "metadata": {
        "id": "Mx2ZAy4la1C7"
      },
      "execution_count": null,
      "outputs": []
    },
    {
      "cell_type": "code",
      "source": [
        "# Remove empty strings after cleaning\n",
        "train = train[train[\"impressions_clean\"].str.strip() != \"\"]\n",
        "test = test[test[\"impressions_clean\"].str.strip() != \"\"]\n",
        "\n",
        "print(f\"Train samples after cleaning: {len(train)}\")\n",
        "print(f\"Test samples after cleaning: {len(test)}\")"
      ],
      "metadata": {
        "id": "B47_5X04a1Ab"
      },
      "execution_count": null,
      "outputs": []
    },
    {
      "cell_type": "code",
      "source": [
        "# Load tokenizer and model\n",
        "print(\"Loading Bio_ClinicalBERT...\")\n",
        "tokenizer = AutoTokenizer.from_pretrained(\"emilyalsentzer/Bio_ClinicalBERT\")\n",
        "bert_model = TFAutoModel.from_pretrained(\"emilyalsentzer/Bio_ClinicalBERT\")"
      ],
      "metadata": {
        "id": "fUwuaZLza09-"
      },
      "execution_count": null,
      "outputs": []
    },
    {
      "cell_type": "code",
      "source": [
        "# Tokenize text\n",
        "max_seq_length = 128\n",
        "print(\"Tokenizing text...\")\n",
        "train_encodings = tokenizer(\n",
        "    train[\"impressions_clean\"].tolist(),\n",
        "    padding=True,\n",
        "    truncation=True,\n",
        "    max_length=max_seq_length,\n",
        "    return_tensors=\"tf\"\n",
        ")\n",
        "test_encodings = tokenizer(\n",
        "    test[\"impressions_clean\"].tolist(),\n",
        "    padding=True,\n",
        "    truncation=True,\n",
        "    max_length=max_seq_length,\n",
        "    return_tensors=\"tf\"\n",
        ")"
      ],
      "metadata": {
        "id": "o1NaRGjla07O"
      },
      "execution_count": null,
      "outputs": []
    },
    {
      "cell_type": "code",
      "source": [
        "# Extract embeddings function (fixed)\n",
        "def extract_embeddings_in_batches(model, encodings, batch_size=32):\n",
        "    \"\"\"Extract CLS token embeddings in batches to manage memory\"\"\"\n",
        "    all_embeddings = []\n",
        "    num_samples = encodings.input_ids.shape[0]\n",
        "\n",
        "    for i in range(0, num_samples, batch_size):\n",
        "        end_idx = min(i + batch_size, num_samples)\n",
        "\n",
        "        batch_input_ids = encodings.input_ids[i:end_idx]\n",
        "        batch_attention_mask = encodings.attention_mask[i:end_idx]\n",
        "\n",
        "        # Get embeddings for this batch\n",
        "        outputs = model(input_ids=batch_input_ids, attention_mask=batch_attention_mask)\n",
        "        # Use CLS token (first token) embeddings\n",
        "        batch_embeddings = outputs.last_hidden_state[:, 0, :]\n",
        "        all_embeddings.append(batch_embeddings.numpy())\n",
        "\n",
        "        if (i // batch_size + 1) % 10 == 0:\n",
        "            print(f\"Processed {i + batch_size} / {num_samples} samples\")\n",
        "\n",
        "    return np.concatenate(all_embeddings, axis=0)"
      ],
      "metadata": {
        "colab": {
          "base_uri": "https://localhost:8080/"
        },
        "id": "Hn-Uav2yXyp9",
        "outputId": "25f72ff6-74bf-4321-f782-9a0f3e7c7abc"
      },
      "execution_count": null,
      "outputs": [
        {
          "output_type": "stream",
          "name": "stdout",
          "text": [
            "Extracting embeddings...\n",
            "Processed 320 / 4460 samples\n",
            "Processed 640 / 4460 samples\n",
            "Processed 960 / 4460 samples\n",
            "Processed 1280 / 4460 samples\n",
            "Processed 1600 / 4460 samples\n",
            "Processed 1920 / 4460 samples\n",
            "Processed 2240 / 4460 samples\n",
            "Processed 2560 / 4460 samples\n",
            "Processed 2880 / 4460 samples\n",
            "Processed 3200 / 4460 samples\n",
            "Processed 3520 / 4460 samples\n",
            "Processed 3840 / 4460 samples\n",
            "Processed 4160 / 4460 samples\n",
            "Processed 4480 / 4460 samples\n",
            "Processed 320 / 1116 samples\n",
            "Processed 640 / 1116 samples\n",
            "Processed 960 / 1116 samples\n",
            "Shape of X_train: (4460, 768)\n",
            "Shape of X_test: (1116, 768)\n"
          ]
        }
      ]
    },
    {
      "cell_type": "code",
      "source": [
        "# Extract embeddings\n",
        "print(\"Extracting embeddings...\")\n",
        "batch_size = 32  # Reduced batch size for stability\n",
        "X_train = extract_embeddings_in_batches(bert_model, train_encodings, batch_size)\n",
        "X_test = extract_embeddings_in_batches(bert_model, test_encodings, batch_size)"
      ],
      "metadata": {
        "id": "uUJ-YaAdbS1U"
      },
      "execution_count": null,
      "outputs": []
    },
    {
      "cell_type": "code",
      "source": [
        "print(f\"Shape of X_train: {X_train.shape}\")\n",
        "print(f\"Shape of X_test: {X_test.shape}\")"
      ],
      "metadata": {
        "id": "AjvMN7uAbWI6"
      },
      "execution_count": null,
      "outputs": []
    },
    {
      "cell_type": "code",
      "source": [
        "# Define targets\n",
        "targets = [\"1_month_readmission\", \"6_month_readmission\", \"12_month_readmission\", \"pe_positive\"]\n",
        "\n",
        "# Check if target columns exist and handle missing values\n",
        "print(\"Preparing target variables...\")\n",
        "for target in targets:\n",
        "    if target not in train.columns:\n",
        "        print(f\"Warning: {target} not found in train data\")\n",
        "    if target not in test.columns:\n",
        "        print(f\"Warning: {target} not found in test data\")\n",
        "\n",
        "# Create target arrays & handle missing columns\n",
        "available_targets = [t for t in targets if t in train.columns and t in test.columns]\n",
        "print(f\"Available targets: {available_targets}\")\n",
        "\n",
        "if not available_targets:\n",
        "    print(\"No target columns found! Please check column names.\")\n",
        "    # Print available columns for debugging\n",
        "    print(\"Train columns:\", train.columns.tolist())\n",
        "    print(\"Test columns:\", test.columns.tolist())\n",
        "else:\n",
        "    y_train = train[available_targets].fillna(0).astype(int)\n",
        "    y_test = test[available_targets].fillna(0).astype(int)\n",
        "\n",
        "    print(\"Target distribution in training data:\")\n",
        "    for target in available_targets:\n",
        "        pos_count = y_train[target].sum()\n",
        "        total_count = len(y_train)\n",
        "        print(f\"{target}: {pos_count}/{total_count} ({pos_count/total_count*100:.1f}% positive)\")"
      ],
      "metadata": {
        "colab": {
          "base_uri": "https://localhost:8080/"
        },
        "id": "_8VMtgIBYDXP",
        "outputId": "4f083a3a-1bf3-4218-c86b-7abc7920c7be"
      },
      "execution_count": null,
      "outputs": [
        {
          "output_type": "stream",
          "name": "stdout",
          "text": [
            "Preparing target variables...\n",
            "Available targets: ['1_month_readmission', '6_month_readmission', '12_month_readmission', 'pe_positive']\n",
            "Target distribution in training data:\n",
            "1_month_readmission: 201/4460 (4.5% positive)\n",
            "6_month_readmission: 593/4460 (13.3% positive)\n",
            "12_month_readmission: 813/4460 (18.2% positive)\n",
            "pe_positive: 1096/4460 (24.6% positive)\n"
          ]
        }
      ]
    },
    {
      "cell_type": "code",
      "source": [
        "# Build the multi-label classification model\n",
        "print(\"Building model...\")\n",
        "input_layer = Input(shape=(X_train.shape[1],), name='embeddings_input')\n",
        "dense1 = Dense(256, activation=\"relu\", name='dense1')(input_layer)\n",
        "dropout1 = Dropout(0.3, name='dropout1', seed=RANDOM_SEED)(dense1)\n",
        "dense2 = Dense(128, activation=\"relu\", name='dense2')(dropout1)\n",
        "dropout2 = Dropout(0.2, name='dropout2', seed=RANDOM_SEED)(dense2)\n",
        "\n",
        "# Create task-specific output heads\n",
        "outputs = []\n",
        "for target in available_targets:\n",
        "    output = Dense(1, activation=\"sigmoid\", name=target)(dropout2)\n",
        "    outputs.append(output)\n",
        "\n",
        "# Create and compile model\n",
        "classification_model = Model(inputs=input_layer, outputs=outputs)\n",
        "\n",
        "# For multi-output models, we need to provide metrics for each output\n",
        "if len(available_targets) == 1:\n",
        "    # Single output - simple metrics list\n",
        "    classification_model.compile(\n",
        "        optimizer=tf.keras.optimizers.Adam(learning_rate=0.001),\n",
        "        loss='binary_crossentropy',\n",
        "        metrics=['accuracy']\n",
        "    )\n",
        "else:\n",
        "    # Multiple outputs - provide metrics list matching number of outputs\n",
        "    # Each entry in the list corresponds to one output\n",
        "    metrics_list = [['accuracy'] for _ in range(len(available_targets))]\n",
        "    classification_model.compile(\n",
        "        optimizer=tf.keras.optimizers.Adam(learning_rate=0.001),\n",
        "        loss='binary_crossentropy',\n",
        "        metrics=metrics_list\n",
        "    )"
      ],
      "metadata": {
        "colab": {
          "base_uri": "https://localhost:8080/",
          "height": 531
        },
        "id": "3O9KnvhoYDP9",
        "outputId": "5ee6a208-e717-4ed6-e558-ee985c8bcd99"
      },
      "execution_count": null,
      "outputs": [
        {
          "output_type": "stream",
          "name": "stdout",
          "text": [
            "Building model...\n",
            "Model architecture:\n"
          ]
        },
        {
          "output_type": "display_data",
          "data": {
            "text/plain": [
              "\u001b[1mModel: \"functional_2\"\u001b[0m\n"
            ],
            "text/html": [
              "<pre style=\"white-space:pre;overflow-x:auto;line-height:normal;font-family:Menlo,'DejaVu Sans Mono',consolas,'Courier New',monospace\"><span style=\"font-weight: bold\">Model: \"functional_2\"</span>\n",
              "</pre>\n"
            ]
          },
          "metadata": {}
        },
        {
          "output_type": "display_data",
          "data": {
            "text/plain": [
              "┏━━━━━━━━━━━━━━━━━━━━━┳━━━━━━━━━━━━━━━━━━━┳━━━━━━━━━━━━┳━━━━━━━━━━━━━━━━━━━┓\n",
              "┃\u001b[1m \u001b[0m\u001b[1mLayer (type)       \u001b[0m\u001b[1m \u001b[0m┃\u001b[1m \u001b[0m\u001b[1mOutput Shape     \u001b[0m\u001b[1m \u001b[0m┃\u001b[1m \u001b[0m\u001b[1m   Param #\u001b[0m\u001b[1m \u001b[0m┃\u001b[1m \u001b[0m\u001b[1mConnected to     \u001b[0m\u001b[1m \u001b[0m┃\n",
              "┡━━━━━━━━━━━━━━━━━━━━━╇━━━━━━━━━━━━━━━━━━━╇━━━━━━━━━━━━╇━━━━━━━━━━━━━━━━━━━┩\n",
              "│ embeddings_input    │ (\u001b[38;5;45mNone\u001b[0m, \u001b[38;5;34m768\u001b[0m)       │          \u001b[38;5;34m0\u001b[0m │ -                 │\n",
              "│ (\u001b[38;5;33mInputLayer\u001b[0m)        │                   │            │                   │\n",
              "├─────────────────────┼───────────────────┼────────────┼───────────────────┤\n",
              "│ dense1 (\u001b[38;5;33mDense\u001b[0m)      │ (\u001b[38;5;45mNone\u001b[0m, \u001b[38;5;34m256\u001b[0m)       │    \u001b[38;5;34m196,864\u001b[0m │ embeddings_input… │\n",
              "├─────────────────────┼───────────────────┼────────────┼───────────────────┤\n",
              "│ dropout1 (\u001b[38;5;33mDropout\u001b[0m)  │ (\u001b[38;5;45mNone\u001b[0m, \u001b[38;5;34m256\u001b[0m)       │          \u001b[38;5;34m0\u001b[0m │ dense1[\u001b[38;5;34m0\u001b[0m][\u001b[38;5;34m0\u001b[0m]      │\n",
              "├─────────────────────┼───────────────────┼────────────┼───────────────────┤\n",
              "│ dense2 (\u001b[38;5;33mDense\u001b[0m)      │ (\u001b[38;5;45mNone\u001b[0m, \u001b[38;5;34m128\u001b[0m)       │     \u001b[38;5;34m32,896\u001b[0m │ dropout1[\u001b[38;5;34m0\u001b[0m][\u001b[38;5;34m0\u001b[0m]    │\n",
              "├─────────────────────┼───────────────────┼────────────┼───────────────────┤\n",
              "│ dropout2 (\u001b[38;5;33mDropout\u001b[0m)  │ (\u001b[38;5;45mNone\u001b[0m, \u001b[38;5;34m128\u001b[0m)       │          \u001b[38;5;34m0\u001b[0m │ dense2[\u001b[38;5;34m0\u001b[0m][\u001b[38;5;34m0\u001b[0m]      │\n",
              "├─────────────────────┼───────────────────┼────────────┼───────────────────┤\n",
              "│ 1_month_readmission │ (\u001b[38;5;45mNone\u001b[0m, \u001b[38;5;34m1\u001b[0m)         │        \u001b[38;5;34m129\u001b[0m │ dropout2[\u001b[38;5;34m0\u001b[0m][\u001b[38;5;34m0\u001b[0m]    │\n",
              "│ (\u001b[38;5;33mDense\u001b[0m)             │                   │            │                   │\n",
              "├─────────────────────┼───────────────────┼────────────┼───────────────────┤\n",
              "│ 6_month_readmission │ (\u001b[38;5;45mNone\u001b[0m, \u001b[38;5;34m1\u001b[0m)         │        \u001b[38;5;34m129\u001b[0m │ dropout2[\u001b[38;5;34m0\u001b[0m][\u001b[38;5;34m0\u001b[0m]    │\n",
              "│ (\u001b[38;5;33mDense\u001b[0m)             │                   │            │                   │\n",
              "├─────────────────────┼───────────────────┼────────────┼───────────────────┤\n",
              "│ 12_month_readmissi… │ (\u001b[38;5;45mNone\u001b[0m, \u001b[38;5;34m1\u001b[0m)         │        \u001b[38;5;34m129\u001b[0m │ dropout2[\u001b[38;5;34m0\u001b[0m][\u001b[38;5;34m0\u001b[0m]    │\n",
              "│ (\u001b[38;5;33mDense\u001b[0m)             │                   │            │                   │\n",
              "├─────────────────────┼───────────────────┼────────────┼───────────────────┤\n",
              "│ pe_positive (\u001b[38;5;33mDense\u001b[0m) │ (\u001b[38;5;45mNone\u001b[0m, \u001b[38;5;34m1\u001b[0m)         │        \u001b[38;5;34m129\u001b[0m │ dropout2[\u001b[38;5;34m0\u001b[0m][\u001b[38;5;34m0\u001b[0m]    │\n",
              "└─────────────────────┴───────────────────┴────────────┴───────────────────┘\n"
            ],
            "text/html": [
              "<pre style=\"white-space:pre;overflow-x:auto;line-height:normal;font-family:Menlo,'DejaVu Sans Mono',consolas,'Courier New',monospace\">┏━━━━━━━━━━━━━━━━━━━━━┳━━━━━━━━━━━━━━━━━━━┳━━━━━━━━━━━━┳━━━━━━━━━━━━━━━━━━━┓\n",
              "┃<span style=\"font-weight: bold\"> Layer (type)        </span>┃<span style=\"font-weight: bold\"> Output Shape      </span>┃<span style=\"font-weight: bold\">    Param # </span>┃<span style=\"font-weight: bold\"> Connected to      </span>┃\n",
              "┡━━━━━━━━━━━━━━━━━━━━━╇━━━━━━━━━━━━━━━━━━━╇━━━━━━━━━━━━╇━━━━━━━━━━━━━━━━━━━┩\n",
              "│ embeddings_input    │ (<span style=\"color: #00d7ff; text-decoration-color: #00d7ff\">None</span>, <span style=\"color: #00af00; text-decoration-color: #00af00\">768</span>)       │          <span style=\"color: #00af00; text-decoration-color: #00af00\">0</span> │ -                 │\n",
              "│ (<span style=\"color: #0087ff; text-decoration-color: #0087ff\">InputLayer</span>)        │                   │            │                   │\n",
              "├─────────────────────┼───────────────────┼────────────┼───────────────────┤\n",
              "│ dense1 (<span style=\"color: #0087ff; text-decoration-color: #0087ff\">Dense</span>)      │ (<span style=\"color: #00d7ff; text-decoration-color: #00d7ff\">None</span>, <span style=\"color: #00af00; text-decoration-color: #00af00\">256</span>)       │    <span style=\"color: #00af00; text-decoration-color: #00af00\">196,864</span> │ embeddings_input… │\n",
              "├─────────────────────┼───────────────────┼────────────┼───────────────────┤\n",
              "│ dropout1 (<span style=\"color: #0087ff; text-decoration-color: #0087ff\">Dropout</span>)  │ (<span style=\"color: #00d7ff; text-decoration-color: #00d7ff\">None</span>, <span style=\"color: #00af00; text-decoration-color: #00af00\">256</span>)       │          <span style=\"color: #00af00; text-decoration-color: #00af00\">0</span> │ dense1[<span style=\"color: #00af00; text-decoration-color: #00af00\">0</span>][<span style=\"color: #00af00; text-decoration-color: #00af00\">0</span>]      │\n",
              "├─────────────────────┼───────────────────┼────────────┼───────────────────┤\n",
              "│ dense2 (<span style=\"color: #0087ff; text-decoration-color: #0087ff\">Dense</span>)      │ (<span style=\"color: #00d7ff; text-decoration-color: #00d7ff\">None</span>, <span style=\"color: #00af00; text-decoration-color: #00af00\">128</span>)       │     <span style=\"color: #00af00; text-decoration-color: #00af00\">32,896</span> │ dropout1[<span style=\"color: #00af00; text-decoration-color: #00af00\">0</span>][<span style=\"color: #00af00; text-decoration-color: #00af00\">0</span>]    │\n",
              "├─────────────────────┼───────────────────┼────────────┼───────────────────┤\n",
              "│ dropout2 (<span style=\"color: #0087ff; text-decoration-color: #0087ff\">Dropout</span>)  │ (<span style=\"color: #00d7ff; text-decoration-color: #00d7ff\">None</span>, <span style=\"color: #00af00; text-decoration-color: #00af00\">128</span>)       │          <span style=\"color: #00af00; text-decoration-color: #00af00\">0</span> │ dense2[<span style=\"color: #00af00; text-decoration-color: #00af00\">0</span>][<span style=\"color: #00af00; text-decoration-color: #00af00\">0</span>]      │\n",
              "├─────────────────────┼───────────────────┼────────────┼───────────────────┤\n",
              "│ 1_month_readmission │ (<span style=\"color: #00d7ff; text-decoration-color: #00d7ff\">None</span>, <span style=\"color: #00af00; text-decoration-color: #00af00\">1</span>)         │        <span style=\"color: #00af00; text-decoration-color: #00af00\">129</span> │ dropout2[<span style=\"color: #00af00; text-decoration-color: #00af00\">0</span>][<span style=\"color: #00af00; text-decoration-color: #00af00\">0</span>]    │\n",
              "│ (<span style=\"color: #0087ff; text-decoration-color: #0087ff\">Dense</span>)             │                   │            │                   │\n",
              "├─────────────────────┼───────────────────┼────────────┼───────────────────┤\n",
              "│ 6_month_readmission │ (<span style=\"color: #00d7ff; text-decoration-color: #00d7ff\">None</span>, <span style=\"color: #00af00; text-decoration-color: #00af00\">1</span>)         │        <span style=\"color: #00af00; text-decoration-color: #00af00\">129</span> │ dropout2[<span style=\"color: #00af00; text-decoration-color: #00af00\">0</span>][<span style=\"color: #00af00; text-decoration-color: #00af00\">0</span>]    │\n",
              "│ (<span style=\"color: #0087ff; text-decoration-color: #0087ff\">Dense</span>)             │                   │            │                   │\n",
              "├─────────────────────┼───────────────────┼────────────┼───────────────────┤\n",
              "│ 12_month_readmissi… │ (<span style=\"color: #00d7ff; text-decoration-color: #00d7ff\">None</span>, <span style=\"color: #00af00; text-decoration-color: #00af00\">1</span>)         │        <span style=\"color: #00af00; text-decoration-color: #00af00\">129</span> │ dropout2[<span style=\"color: #00af00; text-decoration-color: #00af00\">0</span>][<span style=\"color: #00af00; text-decoration-color: #00af00\">0</span>]    │\n",
              "│ (<span style=\"color: #0087ff; text-decoration-color: #0087ff\">Dense</span>)             │                   │            │                   │\n",
              "├─────────────────────┼───────────────────┼────────────┼───────────────────┤\n",
              "│ pe_positive (<span style=\"color: #0087ff; text-decoration-color: #0087ff\">Dense</span>) │ (<span style=\"color: #00d7ff; text-decoration-color: #00d7ff\">None</span>, <span style=\"color: #00af00; text-decoration-color: #00af00\">1</span>)         │        <span style=\"color: #00af00; text-decoration-color: #00af00\">129</span> │ dropout2[<span style=\"color: #00af00; text-decoration-color: #00af00\">0</span>][<span style=\"color: #00af00; text-decoration-color: #00af00\">0</span>]    │\n",
              "└─────────────────────┴───────────────────┴────────────┴───────────────────┘\n",
              "</pre>\n"
            ]
          },
          "metadata": {}
        },
        {
          "output_type": "display_data",
          "data": {
            "text/plain": [
              "\u001b[1m Total params: \u001b[0m\u001b[38;5;34m230,276\u001b[0m (899.52 KB)\n"
            ],
            "text/html": [
              "<pre style=\"white-space:pre;overflow-x:auto;line-height:normal;font-family:Menlo,'DejaVu Sans Mono',consolas,'Courier New',monospace\"><span style=\"font-weight: bold\"> Total params: </span><span style=\"color: #00af00; text-decoration-color: #00af00\">230,276</span> (899.52 KB)\n",
              "</pre>\n"
            ]
          },
          "metadata": {}
        },
        {
          "output_type": "display_data",
          "data": {
            "text/plain": [
              "\u001b[1m Trainable params: \u001b[0m\u001b[38;5;34m230,276\u001b[0m (899.52 KB)\n"
            ],
            "text/html": [
              "<pre style=\"white-space:pre;overflow-x:auto;line-height:normal;font-family:Menlo,'DejaVu Sans Mono',consolas,'Courier New',monospace\"><span style=\"font-weight: bold\"> Trainable params: </span><span style=\"color: #00af00; text-decoration-color: #00af00\">230,276</span> (899.52 KB)\n",
              "</pre>\n"
            ]
          },
          "metadata": {}
        },
        {
          "output_type": "display_data",
          "data": {
            "text/plain": [
              "\u001b[1m Non-trainable params: \u001b[0m\u001b[38;5;34m0\u001b[0m (0.00 B)\n"
            ],
            "text/html": [
              "<pre style=\"white-space:pre;overflow-x:auto;line-height:normal;font-family:Menlo,'DejaVu Sans Mono',consolas,'Courier New',monospace\"><span style=\"font-weight: bold\"> Non-trainable params: </span><span style=\"color: #00af00; text-decoration-color: #00af00\">0</span> (0.00 B)\n",
              "</pre>\n"
            ]
          },
          "metadata": {}
        }
      ]
    },
    {
      "cell_type": "code",
      "source": [
        "print(\"Model architecture:\")\n",
        "classification_model.summary()"
      ],
      "metadata": {
        "id": "qL7-YJq2bhw0"
      },
      "execution_count": null,
      "outputs": []
    },
    {
      "cell_type": "code",
      "source": [
        "# Training\n",
        "print(\"Training model...\")\n",
        "history = classification_model.fit(\n",
        "    X_train,\n",
        "    [y_train[target].values for target in available_targets],\n",
        "    validation_data=(X_test, [y_test[target].values for target in available_targets]),\n",
        "    epochs=10,\n",
        "    batch_size=32,\n",
        "    verbose=1\n",
        ")"
      ],
      "metadata": {
        "colab": {
          "base_uri": "https://localhost:8080/"
        },
        "id": "7kEqhDGlYDLH",
        "outputId": "d167680a-aaf6-49e4-f5eb-8eab7e1a394f"
      },
      "execution_count": null,
      "outputs": [
        {
          "output_type": "stream",
          "name": "stdout",
          "text": [
            "Training model...\n",
            "Epoch 1/10\n",
            "\u001b[1m140/140\u001b[0m \u001b[32m━━━━━━━━━━━━━━━━━━━━\u001b[0m\u001b[37m\u001b[0m \u001b[1m14s\u001b[0m 33ms/step - 12_month_readmission_accuracy: 0.8009 - 12_month_readmission_loss: 0.5106 - 1_month_readmission_accuracy: 0.9327 - 1_month_readmission_loss: 0.2374 - 6_month_readmission_accuracy: 0.8421 - 6_month_readmission_loss: 0.4298 - loss: 1.6644 - pe_positive_accuracy: 0.7737 - pe_positive_loss: 0.4867 - val_12_month_readmission_accuracy: 0.7679 - val_12_month_readmission_loss: 0.5505 - val_1_month_readmission_accuracy: 0.9194 - val_1_month_readmission_loss: 0.2866 - val_6_month_readmission_accuracy: 0.8172 - val_6_month_readmission_loss: 0.4857 - val_loss: 1.6389 - val_pe_positive_accuracy: 0.8584 - val_pe_positive_loss: 0.3186\n",
            "Epoch 2/10\n",
            "\u001b[1m140/140\u001b[0m \u001b[32m━━━━━━━━━━━━━━━━━━━━\u001b[0m\u001b[37m\u001b[0m \u001b[1m1s\u001b[0m 5ms/step - 12_month_readmission_accuracy: 0.8297 - 12_month_readmission_loss: 0.4717 - 1_month_readmission_accuracy: 0.9570 - 1_month_readmission_loss: 0.1810 - 6_month_readmission_accuracy: 0.8758 - 6_month_readmission_loss: 0.3848 - loss: 1.4269 - pe_positive_accuracy: 0.8136 - pe_positive_loss: 0.3894 - val_12_month_readmission_accuracy: 0.7679 - val_12_month_readmission_loss: 0.5466 - val_1_month_readmission_accuracy: 0.9194 - val_1_month_readmission_loss: 0.2871 - val_6_month_readmission_accuracy: 0.8172 - val_6_month_readmission_loss: 0.4818 - val_loss: 1.6147 - val_pe_positive_accuracy: 0.8638 - val_pe_positive_loss: 0.3015\n",
            "Epoch 3/10\n",
            "\u001b[1m140/140\u001b[0m \u001b[32m━━━━━━━━━━━━━━━━━━━━\u001b[0m\u001b[37m\u001b[0m \u001b[1m1s\u001b[0m 5ms/step - 12_month_readmission_accuracy: 0.8051 - 12_month_readmission_loss: 0.4965 - 1_month_readmission_accuracy: 0.9544 - 1_month_readmission_loss: 0.1905 - 6_month_readmission_accuracy: 0.8580 - 6_month_readmission_loss: 0.4144 - loss: 1.4469 - pe_positive_accuracy: 0.8396 - pe_positive_loss: 0.3455 - val_12_month_readmission_accuracy: 0.7679 - val_12_month_readmission_loss: 0.5615 - val_1_month_readmission_accuracy: 0.9194 - val_1_month_readmission_loss: 0.2990 - val_6_month_readmission_accuracy: 0.8172 - val_6_month_readmission_loss: 0.4974 - val_loss: 1.6204 - val_pe_positive_accuracy: 0.8871 - val_pe_positive_loss: 0.2656\n",
            "Epoch 4/10\n",
            "\u001b[1m140/140\u001b[0m \u001b[32m━━━━━━━━━━━━━━━━━━━━\u001b[0m\u001b[37m\u001b[0m \u001b[1m1s\u001b[0m 5ms/step - 12_month_readmission_accuracy: 0.8190 - 12_month_readmission_loss: 0.4798 - 1_month_readmission_accuracy: 0.9536 - 1_month_readmission_loss: 0.1897 - 6_month_readmission_accuracy: 0.8652 - 6_month_readmission_loss: 0.3979 - loss: 1.3995 - pe_positive_accuracy: 0.8554 - pe_positive_loss: 0.3322 - val_12_month_readmission_accuracy: 0.7679 - val_12_month_readmission_loss: 0.5470 - val_1_month_readmission_accuracy: 0.9194 - val_1_month_readmission_loss: 0.2929 - val_6_month_readmission_accuracy: 0.8172 - val_6_month_readmission_loss: 0.4842 - val_loss: 1.5809 - val_pe_positive_accuracy: 0.8961 - val_pe_positive_loss: 0.2592\n",
            "Epoch 5/10\n",
            "\u001b[1m140/140\u001b[0m \u001b[32m━━━━━━━━━━━━━━━━━━━━\u001b[0m\u001b[37m\u001b[0m \u001b[1m1s\u001b[0m 5ms/step - 12_month_readmission_accuracy: 0.8125 - 12_month_readmission_loss: 0.4850 - 1_month_readmission_accuracy: 0.9525 - 1_month_readmission_loss: 0.1968 - 6_month_readmission_accuracy: 0.8608 - 6_month_readmission_loss: 0.4039 - loss: 1.3975 - pe_positive_accuracy: 0.8634 - pe_positive_loss: 0.3117 - val_12_month_readmission_accuracy: 0.7679 - val_12_month_readmission_loss: 0.5462 - val_1_month_readmission_accuracy: 0.9194 - val_1_month_readmission_loss: 0.2844 - val_6_month_readmission_accuracy: 0.8172 - val_6_month_readmission_loss: 0.4821 - val_loss: 1.5411 - val_pe_positive_accuracy: 0.8996 - val_pe_positive_loss: 0.2308\n",
            "Epoch 6/10\n",
            "\u001b[1m140/140\u001b[0m \u001b[32m━━━━━━━━━━━━━━━━━━━━\u001b[0m\u001b[37m\u001b[0m \u001b[1m1s\u001b[0m 5ms/step - 12_month_readmission_accuracy: 0.8201 - 12_month_readmission_loss: 0.4719 - 1_month_readmission_accuracy: 0.9562 - 1_month_readmission_loss: 0.1805 - 6_month_readmission_accuracy: 0.8648 - 6_month_readmission_loss: 0.3883 - loss: 1.3289 - pe_positive_accuracy: 0.8824 - pe_positive_loss: 0.2883 - val_12_month_readmission_accuracy: 0.7679 - val_12_month_readmission_loss: 0.5495 - val_1_month_readmission_accuracy: 0.9194 - val_1_month_readmission_loss: 0.3116 - val_6_month_readmission_accuracy: 0.8172 - val_6_month_readmission_loss: 0.4930 - val_loss: 1.5780 - val_pe_positive_accuracy: 0.8996 - val_pe_positive_loss: 0.2269\n",
            "Epoch 7/10\n",
            "\u001b[1m140/140\u001b[0m \u001b[32m━━━━━━━━━━━━━━━━━━━━\u001b[0m\u001b[37m\u001b[0m \u001b[1m1s\u001b[0m 5ms/step - 12_month_readmission_accuracy: 0.8110 - 12_month_readmission_loss: 0.4768 - 1_month_readmission_accuracy: 0.9503 - 1_month_readmission_loss: 0.1903 - 6_month_readmission_accuracy: 0.8546 - 6_month_readmission_loss: 0.4060 - loss: 1.3523 - pe_positive_accuracy: 0.8821 - pe_positive_loss: 0.2792 - val_12_month_readmission_accuracy: 0.7679 - val_12_month_readmission_loss: 0.5553 - val_1_month_readmission_accuracy: 0.9194 - val_1_month_readmission_loss: 0.2887 - val_6_month_readmission_accuracy: 0.8172 - val_6_month_readmission_loss: 0.4849 - val_loss: 1.5424 - val_pe_positive_accuracy: 0.9077 - val_pe_positive_loss: 0.2161\n",
            "Epoch 8/10\n",
            "\u001b[1m140/140\u001b[0m \u001b[32m━━━━━━━━━━━━━━━━━━━━\u001b[0m\u001b[37m\u001b[0m \u001b[1m2s\u001b[0m 10ms/step - 12_month_readmission_accuracy: 0.8246 - 12_month_readmission_loss: 0.4569 - 1_month_readmission_accuracy: 0.9567 - 1_month_readmission_loss: 0.1762 - 6_month_readmission_accuracy: 0.8711 - 6_month_readmission_loss: 0.3785 - loss: 1.2954 - pe_positive_accuracy: 0.8766 - pe_positive_loss: 0.2838 - val_12_month_readmission_accuracy: 0.7679 - val_12_month_readmission_loss: 0.5497 - val_1_month_readmission_accuracy: 0.9194 - val_1_month_readmission_loss: 0.2843 - val_6_month_readmission_accuracy: 0.8172 - val_6_month_readmission_loss: 0.4845 - val_loss: 1.5277 - val_pe_positive_accuracy: 0.9122 - val_pe_positive_loss: 0.2116\n",
            "Epoch 9/10\n",
            "\u001b[1m140/140\u001b[0m \u001b[32m━━━━━━━━━━━━━━━━━━━━\u001b[0m\u001b[37m\u001b[0m \u001b[1m2s\u001b[0m 12ms/step - 12_month_readmission_accuracy: 0.8150 - 12_month_readmission_loss: 0.4721 - 1_month_readmission_accuracy: 0.9544 - 1_month_readmission_loss: 0.1801 - 6_month_readmission_accuracy: 0.8680 - 6_month_readmission_loss: 0.3788 - loss: 1.3098 - pe_positive_accuracy: 0.8812 - pe_positive_loss: 0.2788 - val_12_month_readmission_accuracy: 0.7679 - val_12_month_readmission_loss: 0.5508 - val_1_month_readmission_accuracy: 0.9194 - val_1_month_readmission_loss: 0.2874 - val_6_month_readmission_accuracy: 0.8172 - val_6_month_readmission_loss: 0.4831 - val_loss: 1.5188 - val_pe_positive_accuracy: 0.9140 - val_pe_positive_loss: 0.1997\n",
            "Epoch 10/10\n",
            "\u001b[1m140/140\u001b[0m \u001b[32m━━━━━━━━━━━━━━━━━━━━\u001b[0m\u001b[37m\u001b[0m \u001b[1m2s\u001b[0m 5ms/step - 12_month_readmission_accuracy: 0.8173 - 12_month_readmission_loss: 0.4687 - 1_month_readmission_accuracy: 0.9605 - 1_month_readmission_loss: 0.1685 - 6_month_readmission_accuracy: 0.8673 - 6_month_readmission_loss: 0.3882 - loss: 1.2968 - pe_positive_accuracy: 0.8903 - pe_positive_loss: 0.2714 - val_12_month_readmission_accuracy: 0.7679 - val_12_month_readmission_loss: 0.5502 - val_1_month_readmission_accuracy: 0.9194 - val_1_month_readmission_loss: 0.2866 - val_6_month_readmission_accuracy: 0.8172 - val_6_month_readmission_loss: 0.4870 - val_loss: 1.5556 - val_pe_positive_accuracy: 0.9059 - val_pe_positive_loss: 0.2346\n"
          ]
        }
      ]
    },
    {
      "cell_type": "code",
      "source": [
        "# Evaluation\n",
        "print(\"\\nEvaluating model...\")\n",
        "predictions = classification_model.predict(X_test, batch_size=32)\n",
        "\n",
        "# Ensure predictions is a list for multi-output models\n",
        "if len(available_targets) == 1:\n",
        "    predictions = [predictions]\n",
        "\n",
        "# Calculate metrics for each target\n",
        "results = {}\n",
        "for i, target in enumerate(available_targets):\n",
        "    y_true = y_test[target].values\n",
        "    y_pred = predictions[i].ravel()\n",
        "    y_pred_binary = (y_pred > 0.5).astype(int)\n",
        "\n",
        "    # Calculate AUC-ROC (handle edge case where all labels are the same class)\n",
        "    try:\n",
        "        if len(np.unique(y_true)) > 1:\n",
        "            auc_score = roc_auc_score(y_true, y_pred)\n",
        "        else:\n",
        "            auc_score = np.nan\n",
        "            print(f\"Warning: {target} has only one class in test set, AUC cannot be calculated\")\n",
        "    except Exception as e:\n",
        "        auc_score = np.nan\n",
        "        print(f\"Error calculating AUC for {target}: {e}\")\n",
        "\n",
        "    results[target] = {\n",
        "        'auc_roc': auc_score,\n",
        "        'accuracy': np.mean(y_true == y_pred_binary),\n",
        "        'precision': np.sum((y_pred_binary == 1) & (y_true == 1)) / max(np.sum(y_pred_binary == 1), 1),\n",
        "        'recall': np.sum((y_pred_binary == 1) & (y_true == 1)) / max(np.sum(y_true == 1), 1)\n",
        "    }\n",
        "\n",
        "    print(f\"\\n{target} Results:\")\n",
        "    print(f\"  AUC-ROC: {auc_score:.4f}\" if not np.isnan(auc_score) else \"  AUC-ROC: N/A\")\n",
        "    print(f\"  Accuracy: {results[target]['accuracy']:.4f}\")\n",
        "    print(f\"  Precision: {results[target]['precision']:.4f}\")\n",
        "    print(f\"  Recall: {results[target]['recall']:.4f}\")\n",
        "\n",
        "    # Classification report\n",
        "    print(f\"\\nClassification Report for {target}:\")\n",
        "    print(classification_report(y_true, y_pred_binary, zero_division=0))"
      ],
      "metadata": {
        "colab": {
          "base_uri": "https://localhost:8080/"
        },
        "id": "SOYU2QDIYDD6",
        "outputId": "be210e82-327b-45e7-d44a-4f0f16f56171"
      },
      "execution_count": null,
      "outputs": [
        {
          "output_type": "stream",
          "name": "stdout",
          "text": [
            "\n",
            "Evaluating model...\n",
            "\u001b[1m35/35\u001b[0m \u001b[32m━━━━━━━━━━━━━━━━━━━━\u001b[0m\u001b[37m\u001b[0m \u001b[1m1s\u001b[0m 9ms/step\n",
            "\n",
            "1_month_readmission Results:\n",
            "  AUC-ROC: 0.5616\n",
            "  Accuracy: 0.9194\n",
            "  Precision: 0.0000\n",
            "  Recall: 0.0000\n",
            "\n",
            "Classification Report for 1_month_readmission:\n",
            "              precision    recall  f1-score   support\n",
            "\n",
            "           0       0.92      1.00      0.96      1026\n",
            "           1       0.00      0.00      0.00        90\n",
            "\n",
            "    accuracy                           0.92      1116\n",
            "   macro avg       0.46      0.50      0.48      1116\n",
            "weighted avg       0.85      0.92      0.88      1116\n",
            "\n",
            "\n",
            "6_month_readmission Results:\n",
            "  AUC-ROC: 0.5229\n",
            "  Accuracy: 0.8172\n",
            "  Precision: 0.0000\n",
            "  Recall: 0.0000\n",
            "\n",
            "Classification Report for 6_month_readmission:\n",
            "              precision    recall  f1-score   support\n",
            "\n",
            "           0       0.82      1.00      0.90       912\n",
            "           1       0.00      0.00      0.00       204\n",
            "\n",
            "    accuracy                           0.82      1116\n",
            "   macro avg       0.41      0.50      0.45      1116\n",
            "weighted avg       0.67      0.82      0.74      1116\n",
            "\n",
            "\n",
            "12_month_readmission Results:\n",
            "  AUC-ROC: 0.5288\n",
            "  Accuracy: 0.7679\n",
            "  Precision: 0.0000\n",
            "  Recall: 0.0000\n",
            "\n",
            "Classification Report for 12_month_readmission:\n",
            "              precision    recall  f1-score   support\n",
            "\n",
            "           0       0.77      1.00      0.87       857\n",
            "           1       0.00      0.00      0.00       259\n",
            "\n",
            "    accuracy                           0.77      1116\n",
            "   macro avg       0.38      0.50      0.43      1116\n",
            "weighted avg       0.59      0.77      0.67      1116\n",
            "\n",
            "\n",
            "pe_positive Results:\n",
            "  AUC-ROC: 0.9526\n",
            "  Accuracy: 0.9059\n",
            "  Precision: 0.9291\n",
            "  Recall: 0.5796\n",
            "\n",
            "Classification Report for pe_positive:\n",
            "              precision    recall  f1-score   support\n",
            "\n",
            "           0       0.90      0.99      0.94       890\n",
            "           1       0.93      0.58      0.71       226\n",
            "\n",
            "    accuracy                           0.91      1116\n",
            "   macro avg       0.92      0.78      0.83      1116\n",
            "weighted avg       0.91      0.91      0.90      1116\n",
            "\n"
          ]
        }
      ]
    },
    {
      "cell_type": "code",
      "source": [
        "# Overall model performance\n",
        "print(\"\\n\" + \"=\"*50)\n",
        "print(\"OVERALL MODEL PERFORMANCE SUMMARY\")\n",
        "print(\"=\"*50)\n",
        "\n",
        "avg_auc = np.nanmean([results[target]['auc_roc'] for target in available_targets])\n",
        "avg_accuracy = np.mean([results[target]['accuracy'] for target in available_targets])\n",
        "avg_precision = np.mean([results[target]['precision'] for target in available_targets])\n",
        "avg_recall = np.mean([results[target]['recall'] for target in available_targets])\n",
        "\n",
        "print(f\"Average AUC-ROC: {avg_auc:.4f}\")\n",
        "print(f\"Average Accuracy: {avg_accuracy:.4f}\")\n",
        "print(f\"Average Precision: {avg_precision:.4f}\")\n",
        "print(f\"Average Recall: {avg_recall:.4f}\")\n",
        "\n",
        "print(\"\\nModel training completed successfully!\")"
      ],
      "metadata": {
        "colab": {
          "base_uri": "https://localhost:8080/"
        },
        "id": "Nj-lBwiBYibk",
        "outputId": "8a30f2f9-31ce-4ab7-f0e5-cac852b30bf9"
      },
      "execution_count": null,
      "outputs": [
        {
          "output_type": "stream",
          "name": "stdout",
          "text": [
            "\n",
            "==================================================\n",
            "OVERALL MODEL PERFORMANCE SUMMARY\n",
            "==================================================\n",
            "Average AUC-ROC: 0.6415\n",
            "Average Accuracy: 0.8526\n",
            "Average Precision: 0.2323\n",
            "Average Recall: 0.1449\n",
            "\n",
            "Model training completed successfully!\n"
          ]
        }
      ]
    }
  ]
}