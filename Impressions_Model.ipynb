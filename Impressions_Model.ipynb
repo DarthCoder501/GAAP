{
  "nbformat": 4,
  "nbformat_minor": 0,
  "metadata": {
    "colab": {
      "provenance": [],
      "authorship_tag": "ABX9TyNG49pNuKGJ5LFZCXiDyt2B",
      "include_colab_link": true
    },
    "kernelspec": {
      "name": "python3",
      "display_name": "Python 3"
    },
    "language_info": {
      "name": "python"
    }
  },
  "cells": [
    {
      "cell_type": "markdown",
      "metadata": {
        "id": "view-in-github",
        "colab_type": "text"
      },
      "source": [
        "<a href=\"https://colab.research.google.com/github/DarthCoder501/GAAP/blob/main/Impressions_Model.ipynb\" target=\"_parent\"><img src=\"https://colab.research.google.com/assets/colab-badge.svg\" alt=\"Open In Colab\"/></a>"
      ]
    },
    {
      "cell_type": "code",
      "source": [
        "import pandas as pd\n",
        "from transformers import AutoTokenizer, TFAutoModel\n",
        "from tensorflow.keras.models import Model\n",
        "from tensorflow.keras.layers import Dense, Input\n",
        "from sklearn.metrics import roc_auc_score, classification_report"
      ],
      "metadata": {
        "id": "j_OiTKes6hl0"
      },
      "execution_count": null,
      "outputs": []
    },
    {
      "cell_type": "code",
      "source": [
        "train = pd.read_csv(\"train.csv\", parse_dates=[\"note_DATETIME\"])\n",
        "test = pd.read_csv(\"test.csv\", parse_dates=[\"note_DATETIME\"])"
      ],
      "metadata": {
        "id": "9udxwOTY6hjZ"
      },
      "execution_count": null,
      "outputs": []
    },
    {
      "cell_type": "code",
      "execution_count": null,
      "metadata": {
        "id": "w5gj7Rgy6WVx"
      },
      "outputs": [],
      "source": [
        "acronyms = {\n",
        "    \"MM\": \"millimeter\",\n",
        "    #\"ET\": \"eastern time\",\n",
        "    #\"DP\": \"\",\n",
        "    \"CT\": \"computed tomography\",\n",
        "    #\"JM\": \"\",\n",
        "    \"HCW\": \"healthcare Worker\",\n",
        "    \"BAC\": \"bronchioloalveolar carcinoma\",\n",
        "    \"ED\": \"emergency department\",\n",
        "    \"PT\": \"pacific time\",\n",
        "    \"MRI\": \"magnetic resonance imaging\",\n",
        "    \"RN\": \"registered nurse\",\n",
        "    \"CVI\": \"\",\n",
        "    \"PACS\": \"\",\n",
        "    \"FOCI\": \"\",\n",
        "    \"PET\": \"\",\n",
        "    \"OPE\": \"\",\n",
        "    \"SVC\": \"\",\n",
        "    \"CM\": \"centimeter\",\n",
        "    \"RLL\": \"\",\n",
        "    \"RUL\": \"\",\n",
        "    \"LAD\": \"\",\n",
        "    \"VS\": \"\",\n",
        "    \"TB\": \"\",\n",
        "    \"IPMT\": \"\",\n",
        "    \"IVC\": \"\",\n",
        "    \"PE\": \"\",\n",
        "    \"PEs\": \"\",\n",
        "    \"FDG\": \"\",\n",
        "    \"SFV\": \"\",\n",
        "    \"DVT\": \"\",\n",
        "    \"SMA\": \"\",\n",
        "    \"NSIP\": \"\",\n",
        "    \"SITU\": \"\",\n",
        "    \"HR\": \"\",\n",
        "    \"4A\": \"\",\n",
        "    \"PST\": \"\",\n",
        "    \"ID\": \"\",\n",
        "    \"CTA\": \"\",\n",
        "    \"NG\": \"\",\n",
        "    \"IPMN\": \"\",\n",
        "    \"UIP\": \"\",\n",
        "    \"ER\": \"\",\n",
        "    \"ARDS\": \"\",\n",
        "    \"MRN\": \"\",\n",
        "    \"RV\": \"\",\n",
        "    \"CHF\": \"\",\n",
        "    \"CAVA\": \"\",\n",
        "    \"VENA\": \"\",\n",
        "    \"PEG\": \"\",\n",
        "    \"PICC\": \"\",\n",
        "    \"GI\": \"\",\n",
        "    \"CYST\": \"\",\n",
        "    \"ASD\": \"\",\n",
        "    \"MR\": \"\",\n",
        "    \"EST\": \"\",\n",
        "    \"CTs\": \"\",\n",
        "    \"3D\": \"\",\n",
        "    \"MAC\": \"\",\n",
        "    \"METS\": \"\",\n",
        "    \"MICU\": \"\",\n",
        "    \"MAI\": \"\",\n",
        "    \"PJP\": \"\",\n",
        "    \"LIMA\": \"\",\n",
        "    \"LV\": \"\",\n",
        "    \"EGD\": \"\",\n",
        "    \"PAU\": \"\",\n",
        "    \"VP\": \"\",\n",
        "    \"CSF\": \"\",\n",
        "    \"SAC\": \"\",\n",
        "    \"HCC\": \"\",\n",
        "    \"SABR\": \"\",\n",
        "    \"ILD\": \"\",\n",
        "    \"IVP\": \"\",\n",
        "    \"MRCP\": \"\",\n",
        "    \"IV\": \"\",\n",
        "    \"RCA\": \"\",\n",
        "    \"COVID\": \"\",\n",
        "    \"2D\": \"\",\n",
        "    \"SMV\": \"\",\n",
        "    \"FNA\": \"\",\n",
        "    \"BAL\": \"\",\n",
        "    \"AVMs\": \"\",\n",
        "    \"AVM\": \"\",\n",
        "    \"MRA\": \"\",\n",
        "    \"AP\": \"\",\n",
        "    \"MRIs\": \"\",\n",
        "    \"COVID19\": \"\",\n",
        "    \"BHD\": \"\",\n",
        "    \"CTEPH\": \"\",\n",
        "    \"RML\": \"\",\n",
        "    \"ITA\": \"\",\n",
        "    \"NGT\": \"\",\n",
        "    \"GE\": \"\",\n",
        "    \"MDS\": \"\",\n",
        "    \"UVJ\": \"\",\n",
        "    \"ERCP\": \"\",\n",
        "    \"OP\": \"\",\n",
        "    \"IJ\": \"\",\n",
        "    \"VSD\": \"\",\n",
        "    \"EMR\": \"\",\n",
        "    \"TE\": \"\",\n",
        "    \"AV\": \"\",\n",
        "    \"PAN\": \"\",\n",
        "    \"ACR\": \"\",\n",
        "    \"III\": \"\",\n",
        "    \"SLE\": \"\",\n",
        "    \"CTS\": \"\",\n",
        "    \"IPF\": \"\",\n",
        "    \"3MM\": \"\",\n",
        "    \"4MM\": \"\",\n",
        "    \"PAPVR\": \"\",\n",
        "    \"ANCA\": \"\",\n",
        "    \"HILA\": \"\",\n",
        "    \"VQ\": \"\",\n",
        "    \"PA\": \"\",\n",
        "    \"PCP\": \"\",\n",
        "    \"CMV\": \"\",\n",
        "    \"PSOAS\": \"\",\n",
        "    \"RVH\": \"\",\n",
        "    \"TSH\": \"\",\n",
        "    \"CBD\": \"\",\n",
        "    \"BNP\": \"\",\n",
        "    \"16MM\": \"\",\n",
        "    \"SM\": \"\",\n",
        "    \"NP\": \"\",\n",
        "    \"ST\": \"\",\n",
        "    \"CVC\": \"\",\n",
        "    \"SVG\": \"\",\n",
        "    \"PDA\": \"\",\n",
        "    \"VIII\": \"\",\n",
        "    \"5A\": \"\",\n",
        "    \"ICU\": \"\",\n",
        "    \"CPR\": \"\",\n",
        "    \"DAH\": \"\",\n",
        "    \"PAP\": \"\",\n",
        "    \"II\": \"\",\n",
        "    \"ENT\": \"\",\n",
        "    \"FNH\": \"\",\n",
        "    \"LLL\": \"\",\n",
        "    \"CTPA\": \"\",\n",
        "    \"LA\": \"\",\n",
        "    \"ABPA\": \"\",\n",
        "    \"IMA\": \"\",\n",
        "    \"CDA\": \"\",\n",
        "    \"RT\": \"\",\n",
        "    \"CCU\": \"\",\n",
        "    \"ALS\": \"\",\n",
        "    \"LT\": \"\",\n",
        "    \"RCC\": \"\",\n",
        "    \"AML\": \"\",\n",
        "    \"HCG\": \"\",\n",
        "    \"2R\": \"\",\n",
        "    \"IJV\": \"\",\n",
        "    \"LE\": \"\",\n",
        "    \"ASAP\": \"\",\n",
        "    \"1L\": \"\",\n",
        "    \"IHSS\": \"\",\n",
        "    \"13MM\": \"\",\n",
        "    \"PFO\": \"\",\n",
        "    \"CCA\": \"\",\n",
        "    \"SCA\": \"\",\n",
        "    \"CRUS\": \"\",\n",
        "    \"ANS\": \"\",\n",
        "    \"IgG4\": \"\",\n",
        "    \"ICD\": \"\",\n",
        "    \"T9\": \"\",\n",
        "    \"CVICU\": \"\",\n",
        "    \"T12\": \"\",\n",
        "    \"L5\": \"\",\n",
        "    \"L1\": \"\",\n",
        "    \"L3\": \"\",\n",
        "    \"T4\": \"\",\n",
        "    \"T5\": \"\",\n",
        "    \"T7\": \"\",\n",
        "    \"T8\": \"\",\n",
        "    \"T10\": \"\",\n",
        "    \"L2\": \"\",\n",
        "    \"8MM\": \"\",\n",
        "    \"T2\": \"\",\n",
        "    \"PM\": \"\",\n",
        "    \"IUD\": \"\",\n",
        "    \"T3\": \"\",\n",
        "    \"T6\": \"\",\n",
        "    \"C7\": \"\",\n",
        "    \"S4\": \"\",\n",
        "    \"T11\": \"\",\n",
        "    \"L4\": \"\",\n",
        "    \"T1\": \"\",\n",
        "    \"S1\": \"\",\n",
        "    \"PAH\": \"\",\n",
        "    \"S9\": \"\",\n",
        "    \"IMH\": \"\",\n",
        "    \"ILL\": \"\",\n",
        "    \"VATS\": \"\",\n",
        "    \"X3\": \"\",\n",
        "    \"S2\": \"\",\n",
        "    \"LVAD\": \"\",\n",
        "    \"ATTHE\": \"\"\n",
        "}"
      ]
    },
    {
      "cell_type": "code",
      "source": [
        "train[\"impressions_clean\"] = train[\"impressions\"].replace(abbreviations, regex=True)\n",
        "test[\"impressions_clean\"] = test[\"impressions\"].replace(abbreviations, regex=True)"
      ],
      "metadata": {
        "id": "Ts47mwEe6hhC"
      },
      "execution_count": null,
      "outputs": []
    },
    {
      "cell_type": "code",
      "source": [
        "train[\"impressions_clean\"] = train[\"impressions_clean\"].str.lower().str.replace('[^a-z0-9\\s]', '')\n",
        "test[\"impressions_clean\"] = test[\"impressions_clean\"].str.lower().str.replace('[^a-z0-9\\s]', '')\n",
        "train.dropna(subset=[\"impressions_clean\"], inplace=True)  # Drop empty impressions"
      ],
      "metadata": {
        "id": "yHz_72z86hei"
      },
      "execution_count": null,
      "outputs": []
    },
    {
      "cell_type": "code",
      "source": [
        "tokenizer = AutoTokenizer.from_pretrained(\"emilyalsentzer/Bio_ClinicalBERT\")\n",
        "model = TFAutoModel.from_pretrained(\"emilyalsentzer/Bio_ClinicalBERT\")"
      ],
      "metadata": {
        "id": "PefrW2ir6hcD"
      },
      "execution_count": null,
      "outputs": []
    },
    {
      "cell_type": "code",
      "source": [
        "# Tokenize text\n",
        "train_encodings = tokenizer(train[\"impressions_clean\"].tolist(), padding=True, truncation=True, return_tensors=\"tf\")\n",
        "test_encodings = tokenizer(test[\"impressions_clean\"].tolist(), padding=True, truncation=True, return_tensors=\"tf\")"
      ],
      "metadata": {
        "id": "qqkC_K4s6hZc"
      },
      "execution_count": null,
      "outputs": []
    },
    {
      "cell_type": "code",
      "source": [
        "# Extract embeddings (use [CLS] token)\n",
        "X_train = model(train_encodings.input_ids).last_hidden_state[:, 0, :]\n",
        "X_test = model(test_encodings.input_ids).last_hidden_state[:, 0, :]"
      ],
      "metadata": {
        "id": "p2PogrT86hWx"
      },
      "execution_count": null,
      "outputs": []
    },
    {
      "cell_type": "code",
      "source": [
        "# Shared encoder + task-specific heads\n",
        "input_layer = Input(shape=(X_train.shape[1],))\n",
        "dense = Dense(128, activation=\"relu\")(input_layer)\n",
        "\n",
        "outputs = []\n",
        "for i, target in enumerate(targets):\n",
        "    outputs.append(Dense(1, activation=\"sigmoid\", name=target)(dense))\n",
        "\n",
        "model = Model(inputs=input_layer, outputs=outputs)\n",
        "model.compile(optimizer=\"adam\", loss=\"binary_crossentropy\", metrics=[\"accuracy\"])"
      ],
      "metadata": {
        "id": "KuDV82pI67E9"
      },
      "execution_count": null,
      "outputs": []
    },
    {
      "cell_type": "code",
      "source": [
        "# Train\n",
        "history = model.fit(\n",
        "    X_train, [y_train[target] for target in targets],\n",
        "    epochs=10,\n",
        "    batch_size=32,\n",
        "    validation_data=(X_test, [y_test[target] for target in targets])\n",
        ")"
      ],
      "metadata": {
        "id": "OcZEBeK367CQ"
      },
      "execution_count": null,
      "outputs": []
    },
    {
      "cell_type": "code",
      "source": [
        "for i, target in enumerate(targets):\n",
        "    y_true = y_test[target]\n",
        "    y_pred = predictions[:, i]  # For Option 1\n",
        "    # y_pred = model.predict(X_test)[i]  # For Option 2\n",
        "\n",
        "    print(f\"Results for {target}:\")\n",
        "    print(classification_report(y_true, y_pred.round()))\n",
        "    print(\"AUC:\", roc_auc_score(y_true, y_pred))"
      ],
      "metadata": {
        "id": "z7_l2Ufq7Gsa"
      },
      "execution_count": null,
      "outputs": []
    }
  ]
}