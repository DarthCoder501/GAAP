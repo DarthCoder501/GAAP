{
  "nbformat": 4,
  "nbformat_minor": 0,
  "metadata": {
    "colab": {
      "provenance": [],
      "authorship_tag": "ABX9TyNX1HaYMQQrs9ggoA9tSIcx",
      "include_colab_link": true
    },
    "kernelspec": {
      "name": "python3",
      "display_name": "Python 3"
    },
    "language_info": {
      "name": "python"
    }
  },
  "cells": [
    {
      "cell_type": "markdown",
      "metadata": {
        "id": "view-in-github",
        "colab_type": "text"
      },
      "source": [
        "<a href=\"https://colab.research.google.com/github/DarthCoder501/GAAP/blob/main/Impressions_Feature_Extraction.ipynb\" target=\"_parent\"><img src=\"https://colab.research.google.com/assets/colab-badge.svg\" alt=\"Open In Colab\"/></a>"
      ]
    },
    {
      "cell_type": "code",
      "source": [
        "!pip install scispacy"
      ],
      "metadata": {
        "id": "JhgbNA7F6tqp"
      },
      "execution_count": null,
      "outputs": []
    },
    {
      "cell_type": "code",
      "source": [
        "!pip install https://s3-us-west-2.amazonaws.com/ai2-s2-scispacy/releases/v0.5.4/en_core_sci_lg-0.5.4.tar.gz"
      ],
      "metadata": {
        "id": "YEfF75uo6xWB"
      },
      "execution_count": null,
      "outputs": []
    },
    {
      "cell_type": "code",
      "execution_count": null,
      "metadata": {
        "id": "VECIxPYs4Xlo"
      },
      "outputs": [],
      "source": [
        "import pandas as pd\n",
        "import spacy\n",
        "import re\n",
        "from collections import defaultdict\n",
        "\n",
        "# Load clinical model\n",
        "nlp = spacy.load(\"en_core_sci_lg\")"
      ]
    },
    {
      "cell_type": "code",
      "source": [
        "def detect_abbreviations(text):\n",
        "    abbreviations = set()\n",
        "\n",
        "    # Rule-based\n",
        "    abbrev_pattern = r'\\b[A-Z0-9]{2,6}s?\\b'\n",
        "    potential_abbrevs = re.findall(abbrev_pattern, text)\n",
        "\n",
        "    # Semantic check\n",
        "    doc = nlp(text)\n",
        "    for token in doc:\n",
        "        if token.text in potential_abbrevs and token.text.isupper():\n",
        "            # Verify against known terms\n",
        "            if not nlp.vocab[token.text.lower()].is_stop:\n",
        "                abbreviations.add(token.text)\n",
        "\n",
        "    return list(abbreviations)"
      ],
      "metadata": {
        "id": "j3-ISLCp6OX5"
      },
      "execution_count": 4,
      "outputs": []
    },
    {
      "cell_type": "code",
      "source": [
        "# Read CSV file\n",
        "df = pd.read_csv('/content/Progression Dataset from Colab.csv')  # replace with your filename\n",
        "\n",
        "# Process all impressions and collect abbreviations\n",
        "all_abbreviations = defaultdict(list)\n",
        "\n",
        "for idx, row in df.iterrows():\n",
        "    impression = row['impressions']\n",
        "    abbrevs = detect_abbreviations(impression)\n",
        "\n",
        "    # Store both the abbreviations and their source row\n",
        "    for abbrev in abbrevs:\n",
        "        all_abbreviations[abbrev].append(idx+2)  # +2 because CSV rows typically start at 1, and header is row 1\n",
        "\n",
        "# Create a summary dataframe\n",
        "abbrev_df = pd.DataFrame({\n",
        "    'Abbreviation': all_abbreviations.keys(),\n",
        "    'Count': [len(v) for v in all_abbreviations.values()],\n",
        "    'Found in Rows': [', '.join(map(str, v)) for v in all_abbreviations.values()]\n",
        "})"
      ],
      "metadata": {
        "id": "FRMZoXiu4h1P"
      },
      "execution_count": 5,
      "outputs": []
    },
    {
      "cell_type": "code",
      "source": [
        "def complex_abbreviations_detection(text):\n",
        "    abbreviations = set()\n",
        "    if not isinstance(text, str):  # handle NaN/empty values\n",
        "        return []\n",
        "\n",
        "    # Rule-based pattern (updated to capture common medical formats)\n",
        "    abbrev_pattern = r'\\b(?:[A-Z][a-z]*[A-Z]|[A-Z]{2,})[0-9]*s?\\b|\\b[0-9]+[A-Z]+[0-9A-Z]*\\b'\n",
        "    potential_abbrevs = re.findall(abbrev_pattern, text)\n",
        "\n",
        "    # Semantic check\n",
        "    doc = nlp(text)\n",
        "    for token in doc:\n",
        "        if token.text in potential_abbrevs:\n",
        "            # Additional checks to exclude common words that slip through\n",
        "            if (token.text.isupper() or\n",
        "                (any(c.isupper() for c in token.text) and len(token.text) > 1)):\n",
        "                if not nlp.vocab[token.text.lower()].is_stop:\n",
        "                    abbreviations.add(token.text)\n",
        "\n",
        "    return list(abbreviations)"
      ],
      "metadata": {
        "id": "uoCBb_YE6OSF"
      },
      "execution_count": 9,
      "outputs": []
    },
    {
      "cell_type": "code",
      "source": [
        "# Print most common abbreviations\n",
        "print(f\"Found {len(abbrev_df)} unique abbreviations/codes:\")\n",
        "print(abbrev_df.sort_values('Count', ascending=False).head(20))"
      ],
      "metadata": {
        "id": "vOQaGwJ66CD3"
      },
      "execution_count": null,
      "outputs": []
    },
    {
      "cell_type": "code",
      "source": [
        "abbrev_df"
      ],
      "metadata": {
        "id": "FY_0RIwf8f-k"
      },
      "execution_count": null,
      "outputs": []
    },
    {
      "cell_type": "code",
      "source": [
        "abbrev_df.to_csv('detected_abbreviations.csv', index=False)"
      ],
      "metadata": {
        "id": "lDrOQAG-9-hP"
      },
      "execution_count": 13,
      "outputs": []
    },
    {
      "cell_type": "code",
      "source": [
        "# Read CSV file\n",
        "med_df = pd.read_csv('/content/Progression Dataset from Colab.csv')  # replace with your filename\n",
        "\n",
        "# Process all impressions and collect abbreviations\n",
        "all_med_abbreviations = defaultdict(list)\n",
        "\n",
        "for idx, row in med_df.iterrows():\n",
        "    impression = row['impressions']\n",
        "    med_abbrevs = complex_abbreviations_detection(impression)\n",
        "\n",
        "    # Store both the abbreviations and their source row\n",
        "    for abbrev in med_abbrevs:\n",
        "        all_med_abbreviations[abbrev].append(idx+2)  # +2 because CSV rows typically start at 1, and header is row 1\n",
        "\n",
        "# Create a summary dataframe\n",
        "med_abbrev_df = pd.DataFrame({\n",
        "    'Abbreviation': all_med_abbreviations.keys(),\n",
        "    'Count': [len(v) for v in all_med_abbreviations.values()],\n",
        "    'Found in Rows': [', '.join(map(str, v)) for v in all_med_abbreviations.values()]\n",
        "})"
      ],
      "metadata": {
        "id": "TddkK_m38tsO"
      },
      "execution_count": 10,
      "outputs": []
    },
    {
      "cell_type": "code",
      "source": [
        "# Print most common abbreviations\n",
        "print(f\"Found {len(med_abbrev_df)} unique abbreviations/codes:\")\n",
        "print(med_abbrev_df.sort_values('Count', ascending=False).head(20))"
      ],
      "metadata": {
        "id": "uzymzzV89C-E"
      },
      "execution_count": null,
      "outputs": []
    },
    {
      "cell_type": "code",
      "source": [
        "med_abbrev_df"
      ],
      "metadata": {
        "id": "UxObhkTq9C6Z"
      },
      "execution_count": null,
      "outputs": []
    },
    {
      "cell_type": "code",
      "source": [
        "med_abbrev_df.to_csv('detected_med_abbreviations.csv', index=False)"
      ],
      "metadata": {
        "id": "QgB0akm5-Cbt"
      },
      "execution_count": 14,
      "outputs": []
    }
  ]
}